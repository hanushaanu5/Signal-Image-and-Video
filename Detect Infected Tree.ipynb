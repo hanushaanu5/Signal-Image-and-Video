{
 "cells": [
  {
   "cell_type": "markdown",
   "metadata": {},
   "source": [
    "## importing Packages"
   ]
  },
  {
   "cell_type": "code",
   "execution_count": 5,
   "metadata": {},
   "outputs": [],
   "source": [
    "import cv2\n",
    "import numpy as np\n",
    "\n",
    "import matplotlib.pyplot as plt\n",
    "# import imutils"
   ]
  },
  {
   "cell_type": "markdown",
   "metadata": {},
   "source": [
    "## Main Function"
   ]
  },
  {
   "cell_type": "code",
   "execution_count": 6,
   "metadata": {},
   "outputs": [],
   "source": [
    "def main(image):\n",
    "    hsv = cv2.cvtColor(image, cv2.COLOR_BGR2HSV)\n",
    "\n",
    "    # lower_range = np.array([10, 0, 0])\n",
    "    # upper_range = np.array([20, 150, 150])\n",
    "\n",
    "\n",
    "    lower_range = np.array([10, 0, 0])\n",
    "    upper_range = np.array([40, 170, 170])\n",
    "    mask = cv2.inRange(hsv, lower_range, upper_range)\n",
    "\n",
    "    mask2 = cv2.merge((mask, mask,mask))\n",
    "\n",
    "    _, mask = cv2.threshold(mask2, thresh=180, maxval=255, type=cv2.THRESH_BINARY)\n",
    "    # copy where we'll assign the new values\n",
    "    colImage = np.copy(image)\n",
    "    # boolean indexing and assignment based on mask\n",
    "    colImage[(mask==255).all(-1)] = [255,0,0]\n",
    "    \n",
    "\n",
    "    colImage_w = cv2.addWeighted(colImage, 0.3, image, 0.5, 0, colImage)\n",
    "\n",
    "#     fig, ax = plt.subplots(1,2,figsize=(12,6))\n",
    "    \n",
    "    return colImage_w\n",
    "\n"
   ]
  },
  {
   "cell_type": "markdown",
   "metadata": {},
   "source": [
    "# Run "
   ]
  },
  {
   "cell_type": "code",
   "execution_count": 8,
   "metadata": {},
   "outputs": [],
   "source": [
    "cap = cv2.VideoCapture('Videos.mp4')\n",
    "count = 0\n",
    "while cap.isOpened():\n",
    "    ret,frame = cap.read()\n",
    "    op = main(frame)\n",
    "#     mat = cv2.cvtColor(op, cv2.COLOR_BGR2RGB)\n",
    "    cv2.imshow('Effected Region in Red',op)\n",
    "    if cv2.waitKey(10) & 0xFF == ord('q'):\n",
    "        break\n",
    "\n",
    "cap.release()\n",
    "cv2.destroyAllWindows() # destroy all opened windows"
   ]
  },
  {
   "cell_type": "code",
   "execution_count": null,
   "metadata": {},
   "outputs": [],
   "source": []
  }
 ],
 "metadata": {
  "kernelspec": {
   "display_name": "Python 3",
   "language": "python",
   "name": "python3"
  },
  "language_info": {
   "codemirror_mode": {
    "name": "ipython",
    "version": 3
   },
   "file_extension": ".py",
   "mimetype": "text/x-python",
   "name": "python",
   "nbconvert_exporter": "python",
   "pygments_lexer": "ipython3",
   "version": "3.7.1"
  }
 },
 "nbformat": 4,
 "nbformat_minor": 2
}
